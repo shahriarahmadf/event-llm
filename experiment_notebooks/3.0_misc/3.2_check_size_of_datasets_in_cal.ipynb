{
 "cells": [
  {
   "cell_type": "code",
   "execution_count": 7,
   "metadata": {},
   "outputs": [],
   "source": [
    "import pandas as pd \n",
    "import os\n",
    "# Set the maximum number of rows and columns to display\n",
    "pd.set_option('display.max_rows', 200)  # Adjust this number as needed\n",
    "pd.set_option('display.max_columns', 50)  # Adjust this number as needed"
   ]
  },
  {
   "cell_type": "code",
   "execution_count": 3,
   "metadata": {},
   "outputs": [
    {
     "name": "stdout",
     "output_type": "stream",
     "text": [
      "attended_community.csv\n",
      "attended_concerts.csv\n",
      "attended_conferences.csv\n",
      "attended_expos.csv\n",
      "attended_festivals.csv\n",
      "attended_performing-arts.csv\n",
      "attended_sports.csv\n",
      "non_attended_academic.csv\n",
      "non_attended_observances.csv\n",
      "non_attended_public-holidays.csv\n",
      "non_attended_school-holidays.csv\n",
      "unscheduled_airport-delays.csv\n",
      "unscheduled_disasters.csv\n",
      "unscheduled_health-warnings.csv\n",
      "unscheduled_severe-weather.csv\n",
      "unscheduled_terror.csv\n"
     ]
    }
   ],
   "source": [
    "# Specify the folder path \n",
    "folder_path = '../../data_CityEvent/processed/1.4.4_updated_cbgid_downscaled/'\n",
    "\n",
    "# List all files in the folder\n",
    "file_names = os.listdir(folder_path)\n",
    "\n",
    "# Print the file names\n",
    "for file_name in file_names:\n",
    "    print(file_name)"
   ]
  },
  {
   "cell_type": "code",
   "execution_count": 6,
   "metadata": {},
   "outputs": [],
   "source": [
    "import json \n",
    "\n",
    "# Function to extract geometry type from GEO\n",
    "def get_geometry_type(geo_json):\n",
    "    try:\n",
    "        geo = json.loads(geo_json)\n",
    "        return geo.get(\"type\", None)\n",
    "    except json.JSONDecodeError:\n",
    "        return None\n",
    "\n",
    "def get_dfs_by_geometry_type(df):\n",
    "    # Create a new column for geometry type\n",
    "    df['geometry_type'] = df['GEO'].apply(get_geometry_type)\n",
    "\n",
    "    # Split dataset based on geometry type\n",
    "    df_points = df[df['geometry_type'] == 'Point'].reset_index(drop=True)\n",
    "    df_polygons = df[df['geometry_type'] == 'Polygon'].reset_index(drop=True)\n",
    "    df_multipolygons = df[df['geometry_type'] == 'MultiPolygon'].reset_index(drop=True)\n",
    "\n",
    "    # Print the results\n",
    "    print(\"Points:\", df_points.shape)\n",
    "    # display(df_points[:1])\n",
    "    print(\"\\nPolygons:\", df_polygons.shape)\n",
    "    # display(df_polygons[:1])\n",
    "    print(\"\\nMultiPolygons:\", df_multipolygons.shape)\n",
    "    # display(df_multipolygons[:1])\n",
    "\n",
    "    return df_points, df_polygons, df_multipolygons"
   ]
  },
  {
   "cell_type": "code",
   "execution_count": 5,
   "metadata": {},
   "outputs": [
    {
     "data": {
      "text/html": [
       "<div>\n",
       "<style scoped>\n",
       "    .dataframe tbody tr th:only-of-type {\n",
       "        vertical-align: middle;\n",
       "    }\n",
       "\n",
       "    .dataframe tbody tr th {\n",
       "        vertical-align: top;\n",
       "    }\n",
       "\n",
       "    .dataframe thead th {\n",
       "        text-align: right;\n",
       "    }\n",
       "</style>\n",
       "<table border=\"1\" class=\"dataframe\">\n",
       "  <thead>\n",
       "    <tr style=\"text-align: right;\">\n",
       "      <th></th>\n",
       "      <th>EVENT_ID</th>\n",
       "      <th>CATEGORY</th>\n",
       "      <th>GEO</th>\n",
       "      <th>EVENT_START_BOSTON</th>\n",
       "      <th>EVENT_END_BOSTON</th>\n",
       "      <th>geometry</th>\n",
       "      <th>GEOID</th>\n",
       "    </tr>\n",
       "  </thead>\n",
       "  <tbody>\n",
       "    <tr>\n",
       "      <th>0</th>\n",
       "      <td>Q8qTSY8YLfHCpz65tE</td>\n",
       "      <td>community</td>\n",
       "      <td>{\"coordinates\":[-122.064,37.9089],\"type\":\"Point\"}</td>\n",
       "      <td>2021-12-04 06:00:00</td>\n",
       "      <td>2021-12-04 09:00:00</td>\n",
       "      <td>POINT (-122.064 37.9089)</td>\n",
       "      <td>60133390023</td>\n",
       "    </tr>\n",
       "    <tr>\n",
       "      <th>1</th>\n",
       "      <td>BrGhonYexS6JirL4g4</td>\n",
       "      <td>community</td>\n",
       "      <td>{\"coordinates\":[-118.2474094,34.052744],\"type\"...</td>\n",
       "      <td>2022-08-27 06:00:00</td>\n",
       "      <td>2022-08-27 06:00:00</td>\n",
       "      <td>POINT (-118.2474094 34.052744)</td>\n",
       "      <td>60372073012</td>\n",
       "    </tr>\n",
       "  </tbody>\n",
       "</table>\n",
       "</div>"
      ],
      "text/plain": [
       "             EVENT_ID   CATEGORY  \\\n",
       "0  Q8qTSY8YLfHCpz65tE  community   \n",
       "1  BrGhonYexS6JirL4g4  community   \n",
       "\n",
       "                                                 GEO   EVENT_START_BOSTON  \\\n",
       "0  {\"coordinates\":[-122.064,37.9089],\"type\":\"Point\"}  2021-12-04 06:00:00   \n",
       "1  {\"coordinates\":[-118.2474094,34.052744],\"type\"...  2022-08-27 06:00:00   \n",
       "\n",
       "      EVENT_END_BOSTON                        geometry        GEOID  \n",
       "0  2021-12-04 09:00:00        POINT (-122.064 37.9089)  60133390023  \n",
       "1  2022-08-27 06:00:00  POINT (-118.2474094 34.052744)  60372073012  "
      ]
     },
     "metadata": {},
     "output_type": "display_data"
    }
   ],
   "source": [
    "# Print the file names\n",
    "for file_name in file_names:\n",
    "    df = pd.read_csv(f'{folder_path}/{file_name}')\n",
    "    display(df[:2])\n",
    "\n",
    "    break"
   ]
  },
  {
   "cell_type": "code",
   "execution_count": null,
   "metadata": {},
   "outputs": [],
   "source": []
  }
 ],
 "metadata": {
  "kernelspec": {
   "display_name": "venv",
   "language": "python",
   "name": "python3"
  },
  "language_info": {
   "codemirror_mode": {
    "name": "ipython",
    "version": 3
   },
   "file_extension": ".py",
   "mimetype": "text/x-python",
   "name": "python",
   "nbconvert_exporter": "python",
   "pygments_lexer": "ipython3",
   "version": "3.10.1"
  }
 },
 "nbformat": 4,
 "nbformat_minor": 2
}
