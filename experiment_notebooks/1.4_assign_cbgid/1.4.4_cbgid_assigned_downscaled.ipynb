{
 "cells": [
  {
   "cell_type": "code",
   "execution_count": 1,
   "metadata": {},
   "outputs": [],
   "source": [
    "# read data\n",
    "import pandas as pd\n",
    "import os\n",
    "# Set the maximum number of rows and columns to display\n",
    "pd.set_option('display.max_rows', 200)  # Adjust this number as needed\n",
    "pd.set_option('display.max_columns', 50)  # Adjust this number as needed"
   ]
  },
  {
   "cell_type": "code",
   "execution_count": 3,
   "metadata": {},
   "outputs": [
    {
     "name": "stdout",
     "output_type": "stream",
     "text": [
      "attended_community.csv\n",
      "attended_concerts.csv\n",
      "attended_conferences.csv\n",
      "attended_expos.csv\n",
      "attended_festivals.csv\n",
      "attended_performing-arts.csv\n",
      "attended_sports.csv\n",
      "non_attended_academic.csv\n",
      "non_attended_observances.csv\n",
      "non_attended_public-holidays.csv\n",
      "non_attended_school-holidays.csv\n",
      "unscheduled_airport-delays.csv\n",
      "unscheduled_disasters.csv\n",
      "unscheduled_health-warnings.csv\n",
      "unscheduled_severe-weather.csv\n",
      "unscheduled_terror.csv\n"
     ]
    }
   ],
   "source": [
    "# Specify the folder path \n",
    "folder_path = '../../data_CityEvent/processed/1.4_updated_events_cbgid_assigned_by_category'\n",
    "file_names = os.listdir(folder_path)\n",
    "for file_name in file_names:\n",
    "    print(file_name)"
   ]
  },
  {
   "cell_type": "code",
   "execution_count": 4,
   "metadata": {},
   "outputs": [
    {
     "name": "stdout",
     "output_type": "stream",
     "text": [
      "attended_community.csv (35075, 36)\n",
      "attended_concerts.csv (96441, 36)\n",
      "attended_conferences.csv (10407, 36)\n",
      "attended_expos.csv (5381, 36)\n",
      "attended_festivals.csv (9425, 36)\n",
      "attended_performing-arts.csv (29042, 36)\n",
      "attended_sports.csv (18599, 36)\n",
      "non_attended_academic.csv (5275, 36)\n",
      "non_attended_observances.csv (13, 36)\n",
      "non_attended_public-holidays.csv (50, 36)\n"
     ]
    },
    {
     "name": "stderr",
     "output_type": "stream",
     "text": [
      "C:\\Users\\HP\\AppData\\Local\\Temp\\ipykernel_26808\\3634875388.py:2: DtypeWarning: Columns (11) have mixed types. Specify dtype option on import or set low_memory=False.\n",
      "  df = pd.read_csv(f'../../data_CityEvent/processed/1.4_updated_events_cbgid_assigned_by_category/{file_name}')\n"
     ]
    },
    {
     "name": "stdout",
     "output_type": "stream",
     "text": [
      "non_attended_school-holidays.csv (588362, 36)\n",
      "unscheduled_airport-delays.csv (31612, 36)\n",
      "unscheduled_disasters.csv (72808, 36)\n",
      "unscheduled_health-warnings.csv (39, 36)\n",
      "unscheduled_severe-weather.csv (2106605, 36)\n",
      "unscheduled_terror.csv (133, 36)\n"
     ]
    }
   ],
   "source": [
    "for file_name in file_names:\n",
    "    df = pd.read_csv(f'../../data_CityEvent/processed/1.4_updated_events_cbgid_assigned_by_category/{file_name}')\n",
    "    print(file_name, df.shape)"
   ]
  },
  {
   "cell_type": "code",
   "execution_count": 4,
   "metadata": {},
   "outputs": [],
   "source": [
    "# downscale\n",
    "columns_to_keep = [\n",
    "    'EVENT_ID',\n",
    "    'CATEGORY',\n",
    "    'GEO',\n",
    "    'EVENT_START_BOSTON',\n",
    "    'EVENT_END_BOSTON',\n",
    "    'geometry',\n",
    "    'GEOID'\n",
    "]"
   ]
  },
  {
   "cell_type": "code",
   "execution_count": 5,
   "metadata": {},
   "outputs": [
    {
     "name": "stdout",
     "output_type": "stream",
     "text": [
      "attended_community.csv (35075, 36)\n",
      "attended_community.csv (35075, 7)\n",
      "Saved\n",
      "attended_concerts.csv (96441, 36)\n",
      "attended_concerts.csv (96441, 7)\n",
      "Saved\n",
      "attended_conferences.csv (10407, 36)\n",
      "attended_conferences.csv (10407, 7)\n",
      "Saved\n",
      "attended_expos.csv (5381, 36)\n",
      "attended_expos.csv (5381, 7)\n",
      "Saved\n",
      "attended_festivals.csv (9425, 36)\n",
      "attended_festivals.csv (9425, 7)\n",
      "Saved\n",
      "attended_performing-arts.csv (29042, 36)\n",
      "attended_performing-arts.csv (29042, 7)\n",
      "Saved\n",
      "attended_sports.csv (18599, 36)\n",
      "attended_sports.csv (18599, 7)\n",
      "Saved\n",
      "non_attended_academic.csv (5275, 36)\n",
      "non_attended_academic.csv (5275, 7)\n",
      "Saved\n",
      "non_attended_observances.csv (13, 36)\n",
      "non_attended_observances.csv (13, 7)\n",
      "Saved\n",
      "non_attended_public-holidays.csv (50, 36)\n",
      "non_attended_public-holidays.csv (50, 7)\n",
      "Saved\n"
     ]
    },
    {
     "name": "stderr",
     "output_type": "stream",
     "text": [
      "C:\\Users\\HP\\AppData\\Local\\Temp\\ipykernel_21028\\1487363920.py:2: DtypeWarning: Columns (11) have mixed types. Specify dtype option on import or set low_memory=False.\n",
      "  df = pd.read_csv(f'../../data_CityEvent/processed/1.4_updated_events_cbgid_assigned_by_category/{file_name}')\n"
     ]
    },
    {
     "name": "stdout",
     "output_type": "stream",
     "text": [
      "non_attended_school-holidays.csv (588362, 36)\n",
      "non_attended_school-holidays.csv (588362, 7)\n",
      "Saved\n",
      "unscheduled_airport-delays.csv (31612, 36)\n",
      "unscheduled_airport-delays.csv (31612, 7)\n",
      "Saved\n",
      "unscheduled_disasters.csv (72808, 36)\n",
      "unscheduled_disasters.csv (72808, 7)\n",
      "Saved\n",
      "unscheduled_health-warnings.csv (39, 36)\n",
      "unscheduled_health-warnings.csv (39, 7)\n",
      "Saved\n",
      "unscheduled_severe-weather.csv (2106605, 36)\n",
      "unscheduled_severe-weather.csv (2106605, 7)\n",
      "Saved\n",
      "unscheduled_terror.csv (133, 36)\n",
      "unscheduled_terror.csv (133, 7)\n",
      "Saved\n"
     ]
    }
   ],
   "source": [
    "for file_name in file_names:\n",
    "    df = pd.read_csv(f'../../data_CityEvent/processed/1.4_updated_events_cbgid_assigned_by_category/{file_name}')\n",
    "    print(file_name, df.shape)\n",
    "    df = df[columns_to_keep]\n",
    "    print(file_name, df.shape)\n",
    "    df.to_csv(f'../../data_CityEvent/processed/1.4.4_updated_cbgid_downscaled/{file_name}', index=False)\n",
    "    print('Saved')"
   ]
  },
  {
   "cell_type": "code",
   "execution_count": 2,
   "metadata": {},
   "outputs": [
    {
     "data": {
      "text/html": [
       "<div>\n",
       "<style scoped>\n",
       "    .dataframe tbody tr th:only-of-type {\n",
       "        vertical-align: middle;\n",
       "    }\n",
       "\n",
       "    .dataframe tbody tr th {\n",
       "        vertical-align: top;\n",
       "    }\n",
       "\n",
       "    .dataframe thead th {\n",
       "        text-align: right;\n",
       "    }\n",
       "</style>\n",
       "<table border=\"1\" class=\"dataframe\">\n",
       "  <thead>\n",
       "    <tr style=\"text-align: right;\">\n",
       "      <th></th>\n",
       "      <th>EVENT_ID</th>\n",
       "      <th>CATEGORY</th>\n",
       "      <th>GEO</th>\n",
       "      <th>EVENT_START_BOSTON</th>\n",
       "      <th>EVENT_END_BOSTON</th>\n",
       "      <th>geometry</th>\n",
       "      <th>GEOID</th>\n",
       "    </tr>\n",
       "  </thead>\n",
       "  <tbody>\n",
       "    <tr>\n",
       "      <th>0</th>\n",
       "      <td>3DXLhXnD9gfBfAtrix</td>\n",
       "      <td>severe-weather</td>\n",
       "      <td>{\"coordinates\":[[[-117.58,33.38],[-117.48,33.5...</td>\n",
       "      <td>2023-03-22 04:05:00</td>\n",
       "      <td>2023-03-22 06:03:00</td>\n",
       "      <td>POLYGON ((-117.58 33.38, -117.48 33.5, -117.2 ...</td>\n",
       "      <td>60730100094</td>\n",
       "    </tr>\n",
       "  </tbody>\n",
       "</table>\n",
       "</div>"
      ],
      "text/plain": [
       "             EVENT_ID        CATEGORY  \\\n",
       "0  3DXLhXnD9gfBfAtrix  severe-weather   \n",
       "\n",
       "                                                 GEO   EVENT_START_BOSTON  \\\n",
       "0  {\"coordinates\":[[[-117.58,33.38],[-117.48,33.5...  2023-03-22 04:05:00   \n",
       "\n",
       "      EVENT_END_BOSTON                                           geometry  \\\n",
       "0  2023-03-22 06:03:00  POLYGON ((-117.58 33.38, -117.48 33.5, -117.2 ...   \n",
       "\n",
       "         GEOID  \n",
       "0  60730100094  "
      ]
     },
     "execution_count": 2,
     "metadata": {},
     "output_type": "execute_result"
    }
   ],
   "source": [
    "# sanity check\n",
    "df = pd.read_csv(f'../../data_CityEvent/processed/1.4.4_updated_cbgid_downscaled/unscheduled_severe-weather.csv')\n",
    "df[:1]\n"
   ]
  },
  {
   "cell_type": "code",
   "execution_count": 3,
   "metadata": {},
   "outputs": [
    {
     "data": {
      "text/plain": [
       "(2106605, 7)"
      ]
     },
     "execution_count": 3,
     "metadata": {},
     "output_type": "execute_result"
    }
   ],
   "source": [
    "df.shape"
   ]
  },
  {
   "cell_type": "code",
   "execution_count": 4,
   "metadata": {},
   "outputs": [
    {
     "data": {
      "text/plain": [
       "5320"
      ]
     },
     "execution_count": 4,
     "metadata": {},
     "output_type": "execute_result"
    }
   ],
   "source": [
    "df['EVENT_ID'].nunique()"
   ]
  },
  {
   "cell_type": "code",
   "execution_count": null,
   "metadata": {},
   "outputs": [],
   "source": []
  }
 ],
 "metadata": {
  "kernelspec": {
   "display_name": "venv",
   "language": "python",
   "name": "python3"
  },
  "language_info": {
   "codemirror_mode": {
    "name": "ipython",
    "version": 3
   },
   "file_extension": ".py",
   "mimetype": "text/x-python",
   "name": "python",
   "nbconvert_exporter": "python",
   "pygments_lexer": "ipython3",
   "version": "3.10.1"
  }
 },
 "nbformat": 4,
 "nbformat_minor": 2
}
