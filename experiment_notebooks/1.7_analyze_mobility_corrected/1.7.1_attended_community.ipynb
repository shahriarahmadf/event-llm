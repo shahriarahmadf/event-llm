{
 "cells": [
  {
   "cell_type": "code",
   "execution_count": 1,
   "metadata": {},
   "outputs": [],
   "source": [
    "import pandas as pd \n",
    "import os\n",
    "import seaborn as sns\n",
    "import matplotlib.pyplot as plt\n",
    "# Set the maximum number of rows and columns to display\n",
    "pd.set_option('display.max_rows', 200)  # Adjust this number as needed\n",
    "pd.set_option('display.max_columns', 50)  # Adjust this number as needed"
   ]
  },
  {
   "cell_type": "code",
   "execution_count": 3,
   "metadata": {},
   "outputs": [
    {
     "name": "stdout",
     "output_type": "stream",
     "text": [
      "avg_visits_attended_community_hourly_visits.csv\n",
      "avg_visits_attended_concerts_hourly_visits.csv\n",
      "avg_visits_attended_conferences_hourly_visits.csv\n",
      "avg_visits_attended_expos_hourly_visits.csv\n",
      "avg_visits_attended_festivals_hourly_visits.csv\n",
      "avg_visits_attended_performing-arts_hourly_visits.csv\n",
      "avg_visits_attended_sports_hourly_visits.csv\n",
      "avg_visits_non_attended_academic_hourly_visits.csv\n",
      "avg_visits_non_attended_daylight-savings_hourly_visits.csv\n",
      "avg_visits_non_attended_observances_hourly_visits.csv\n",
      "avg_visits_non_attended_politics_hourly_visits.csv\n",
      "avg_visits_non_attended_public-holidays_hourly_visits.csv\n",
      "avg_visits_non_attended_school-holidays_hourly_visits.csv\n",
      "avg_visits_unscheduled_airport-delays_hourly_visits.csv\n",
      "avg_visits_unscheduled_disasters_hourly_visits.csv\n",
      "avg_visits_unscheduled_health-warnings_hourly_visits.csv\n",
      "avg_visits_unscheduled_severe-weather_hourly_visits.csv\n",
      "avg_visits_unscheduled_terror_hourly_visits.csv\n"
     ]
    }
   ],
   "source": [
    "import os\n",
    "# List all files in the folder\n",
    "folder_path = '../../data_CityEvent/processed/1.5.4_avg_visits_across_day_of_week_at_cbgid_hour_of_day/'\n",
    "file_names = os.listdir(folder_path)\n",
    "\n",
    "# file_names.remove('unscheduled_intermediate') \n",
    "# file_names.remove('archive_before_dropping_missing_geometry') \n",
    "for file_name in file_names:\n",
    "    print(file_name)"
   ]
  },
  {
   "cell_type": "code",
   "execution_count": 4,
   "metadata": {},
   "outputs": [
    {
     "name": "stdout",
     "output_type": "stream",
     "text": [
      "avg_visits_attended_community_hourly_visits.csv: (11164, 6)\n"
     ]
    }
   ],
   "source": [
    "import os\n",
    "import pandas as pd\n",
    "for file_name in file_names:\n",
    "    current_df = pd.read_csv(os.path.join(folder_path, file_name))\n",
    "    current_df.reset_index(drop=True, inplace=True)\n",
    "    print(f'{file_name}: {current_df.shape}')    \n",
    "    break\n",
    "    "
   ]
  },
  {
   "cell_type": "code",
   "execution_count": null,
   "metadata": {},
   "outputs": [],
   "source": []
  },
  {
   "cell_type": "code",
   "execution_count": null,
   "metadata": {},
   "outputs": [],
   "source": []
  },
  {
   "cell_type": "code",
   "execution_count": 18,
   "metadata": {},
   "outputs": [
    {
     "data": {
      "text/html": [
       "<div>\n",
       "<style scoped>\n",
       "    .dataframe tbody tr th:only-of-type {\n",
       "        vertical-align: middle;\n",
       "    }\n",
       "\n",
       "    .dataframe tbody tr th {\n",
       "        vertical-align: top;\n",
       "    }\n",
       "\n",
       "    .dataframe thead th {\n",
       "        text-align: right;\n",
       "    }\n",
       "</style>\n",
       "<table border=\"1\" class=\"dataframe\">\n",
       "  <thead>\n",
       "    <tr style=\"text-align: right;\">\n",
       "      <th></th>\n",
       "      <th>DAY_OF_WEEK</th>\n",
       "      <th>START_HOUR</th>\n",
       "      <th>BGFIPS</th>\n",
       "      <th>TOTAL_VISITS</th>\n",
       "      <th>AVG_VISITS</th>\n",
       "      <th>EVENTS_COUNT</th>\n",
       "    </tr>\n",
       "  </thead>\n",
       "  <tbody>\n",
       "    <tr>\n",
       "      <th>0</th>\n",
       "      <td>Friday</td>\n",
       "      <td>0</td>\n",
       "      <td>60014229002</td>\n",
       "      <td>7.0</td>\n",
       "      <td>2.333333</td>\n",
       "      <td>3</td>\n",
       "    </tr>\n",
       "    <tr>\n",
       "      <th>1</th>\n",
       "      <td>Friday</td>\n",
       "      <td>0</td>\n",
       "      <td>60330013003</td>\n",
       "      <td>0.0</td>\n",
       "      <td>0.000000</td>\n",
       "      <td>4</td>\n",
       "    </tr>\n",
       "    <tr>\n",
       "      <th>2</th>\n",
       "      <td>Friday</td>\n",
       "      <td>0</td>\n",
       "      <td>60371252002</td>\n",
       "      <td>2.0</td>\n",
       "      <td>2.000000</td>\n",
       "      <td>1</td>\n",
       "    </tr>\n",
       "    <tr>\n",
       "      <th>3</th>\n",
       "      <td>Friday</td>\n",
       "      <td>0</td>\n",
       "      <td>60372032002</td>\n",
       "      <td>0.0</td>\n",
       "      <td>0.000000</td>\n",
       "      <td>1</td>\n",
       "    </tr>\n",
       "    <tr>\n",
       "      <th>4</th>\n",
       "      <td>Friday</td>\n",
       "      <td>0</td>\n",
       "      <td>60372374012</td>\n",
       "      <td>0.0</td>\n",
       "      <td>0.000000</td>\n",
       "      <td>1</td>\n",
       "    </tr>\n",
       "  </tbody>\n",
       "</table>\n",
       "</div>"
      ],
      "text/plain": [
       "  DAY_OF_WEEK  START_HOUR       BGFIPS  TOTAL_VISITS  AVG_VISITS  EVENTS_COUNT\n",
       "0      Friday           0  60014229002           7.0    2.333333             3\n",
       "1      Friday           0  60330013003           0.0    0.000000             4\n",
       "2      Friday           0  60371252002           2.0    2.000000             1\n",
       "3      Friday           0  60372032002           0.0    0.000000             1\n",
       "4      Friday           0  60372374012           0.0    0.000000             1"
      ]
     },
     "metadata": {},
     "output_type": "display_data"
    }
   ],
   "source": [
    "df = pd.read_csv('../../data_CityEvent/processed/1.5.4_avg_visits_across_day_of_week_at_cbgid_hour_of_day/avg_visits_attended_community_hourly_visits.csv')\n",
    "display(df.head())"
   ]
  },
  {
   "cell_type": "code",
   "execution_count": 19,
   "metadata": {},
   "outputs": [
    {
     "name": "stdout",
     "output_type": "stream",
     "text": [
      "(11164, 6)\n",
      "(11135, 6)\n"
     ]
    }
   ],
   "source": [
    "print(df.shape)\n",
    "filtered_df = df[df['EVENTS_COUNT'] <= 400]\n",
    "print(filtered_df.shape)"
   ]
  },
  {
   "cell_type": "code",
   "execution_count": 20,
   "metadata": {},
   "outputs": [
    {
     "name": "stderr",
     "output_type": "stream",
     "text": [
      "C:\\Users\\HP\\AppData\\Local\\Temp\\ipykernel_18260\\1283310841.py:1: SettingWithCopyWarning: \n",
      "A value is trying to be set on a copy of a slice from a DataFrame.\n",
      "Try using .loc[row_indexer,col_indexer] = value instead\n",
      "\n",
      "See the caveats in the documentation: https://pandas.pydata.org/pandas-docs/stable/user_guide/indexing.html#returning-a-view-versus-a-copy\n",
      "  filtered_df['EVENTS_CLASS'] = filtered_df['EVENTS_COUNT'].apply(\n"
     ]
    }
   ],
   "source": [
    "filtered_df['EVENTS_CLASS'] = filtered_df['EVENTS_COUNT'].apply(\n",
    "    lambda x: 1 if x <=10\n",
    "    else (2 if x <= 50 \n",
    "          else (3 if x <= 100\n",
    "                else (4 if x <= 200\n",
    "                      else (5)))))"
   ]
  },
  {
   "cell_type": "code",
   "execution_count": 21,
   "metadata": {},
   "outputs": [
    {
     "data": {
      "text/html": [
       "<div>\n",
       "<style scoped>\n",
       "    .dataframe tbody tr th:only-of-type {\n",
       "        vertical-align: middle;\n",
       "    }\n",
       "\n",
       "    .dataframe tbody tr th {\n",
       "        vertical-align: top;\n",
       "    }\n",
       "\n",
       "    .dataframe thead th {\n",
       "        text-align: right;\n",
       "    }\n",
       "</style>\n",
       "<table border=\"1\" class=\"dataframe\">\n",
       "  <thead>\n",
       "    <tr style=\"text-align: right;\">\n",
       "      <th></th>\n",
       "      <th>DAY_OF_WEEK</th>\n",
       "      <th>START_HOUR</th>\n",
       "      <th>BGFIPS</th>\n",
       "      <th>TOTAL_VISITS</th>\n",
       "      <th>AVG_VISITS</th>\n",
       "      <th>EVENTS_COUNT</th>\n",
       "      <th>EVENTS_CLASS</th>\n",
       "    </tr>\n",
       "  </thead>\n",
       "  <tbody>\n",
       "    <tr>\n",
       "      <th>0</th>\n",
       "      <td>Friday</td>\n",
       "      <td>0</td>\n",
       "      <td>60014229002</td>\n",
       "      <td>7.0</td>\n",
       "      <td>2.333333</td>\n",
       "      <td>3</td>\n",
       "      <td>1</td>\n",
       "    </tr>\n",
       "  </tbody>\n",
       "</table>\n",
       "</div>"
      ],
      "text/plain": [
       "  DAY_OF_WEEK  START_HOUR       BGFIPS  TOTAL_VISITS  AVG_VISITS  \\\n",
       "0      Friday           0  60014229002           7.0    2.333333   \n",
       "\n",
       "   EVENTS_COUNT  EVENTS_CLASS  \n",
       "0             3             1  "
      ]
     },
     "metadata": {},
     "output_type": "display_data"
    }
   ],
   "source": [
    "display(filtered_df[:1])"
   ]
  },
  {
   "cell_type": "code",
   "execution_count": 22,
   "metadata": {},
   "outputs": [
    {
     "name": "stderr",
     "output_type": "stream",
     "text": [
      "C:\\Users\\HP\\AppData\\Local\\Temp\\ipykernel_18260\\752607809.py:1: SettingWithCopyWarning: \n",
      "A value is trying to be set on a copy of a slice from a DataFrame.\n",
      "Try using .loc[row_indexer,col_indexer] = value instead\n",
      "\n",
      "See the caveats in the documentation: https://pandas.pydata.org/pandas-docs/stable/user_guide/indexing.html#returning-a-view-versus-a-copy\n",
      "  filtered_df['PERCENTAGE_VISIT_CHANGE'] = (filtered_df['TOTAL_VISITS'] - filtered_df['AVG_VISITS'])/filtered_df['AVG_VISITS']\n"
     ]
    }
   ],
   "source": [
    "filtered_df['PERCENTAGE_VISIT_CHANGE'] = (filtered_df['TOTAL_VISITS'] - filtered_df['AVG_VISITS'])/filtered_df['AVG_VISITS']"
   ]
  },
  {
   "cell_type": "code",
   "execution_count": 23,
   "metadata": {},
   "outputs": [
    {
     "data": {
      "text/html": [
       "<div>\n",
       "<style scoped>\n",
       "    .dataframe tbody tr th:only-of-type {\n",
       "        vertical-align: middle;\n",
       "    }\n",
       "\n",
       "    .dataframe tbody tr th {\n",
       "        vertical-align: top;\n",
       "    }\n",
       "\n",
       "    .dataframe thead th {\n",
       "        text-align: right;\n",
       "    }\n",
       "</style>\n",
       "<table border=\"1\" class=\"dataframe\">\n",
       "  <thead>\n",
       "    <tr style=\"text-align: right;\">\n",
       "      <th></th>\n",
       "      <th>DAY_OF_WEEK</th>\n",
       "      <th>START_HOUR</th>\n",
       "      <th>BGFIPS</th>\n",
       "      <th>TOTAL_VISITS</th>\n",
       "      <th>AVG_VISITS</th>\n",
       "      <th>EVENTS_COUNT</th>\n",
       "      <th>EVENTS_CLASS</th>\n",
       "      <th>PERCENTAGE_VISIT_CHANGE</th>\n",
       "    </tr>\n",
       "  </thead>\n",
       "  <tbody>\n",
       "    <tr>\n",
       "      <th>0</th>\n",
       "      <td>Friday</td>\n",
       "      <td>0</td>\n",
       "      <td>60014229002</td>\n",
       "      <td>7.0</td>\n",
       "      <td>2.333333</td>\n",
       "      <td>3</td>\n",
       "      <td>1</td>\n",
       "      <td>2.0</td>\n",
       "    </tr>\n",
       "  </tbody>\n",
       "</table>\n",
       "</div>"
      ],
      "text/plain": [
       "  DAY_OF_WEEK  START_HOUR       BGFIPS  TOTAL_VISITS  AVG_VISITS  \\\n",
       "0      Friday           0  60014229002           7.0    2.333333   \n",
       "\n",
       "   EVENTS_COUNT  EVENTS_CLASS  PERCENTAGE_VISIT_CHANGE  \n",
       "0             3             1                      2.0  "
      ]
     },
     "metadata": {},
     "output_type": "display_data"
    }
   ],
   "source": [
    "display(filtered_df[:1])"
   ]
  },
  {
   "cell_type": "code",
   "execution_count": 24,
   "metadata": {},
   "outputs": [
    {
     "name": "stderr",
     "output_type": "stream",
     "text": [
      "C:\\Users\\HP\\AppData\\Local\\Temp\\ipykernel_18260\\844309055.py:16: FutureWarning: \n",
      "\n",
      "Passing `palette` without assigning `hue` is deprecated and will be removed in v0.14.0. Assign the `x` variable to `hue` and set `legend=False` for the same effect.\n",
      "\n",
      "  sns.boxplot(data=filtered_df, x='EVENTS_CLASS', y='PERCENTAGE_VISIT_CHANGE', palette='coolwarm')\n"
     ]
    },
    {
     "data": {
      "image/png": "[encoded data removed]",
      "text/plain": [
       "<Figure size 1000x600 with 1 Axes>"
      ]
     },
     "metadata": {},
     "output_type": "display_data"
    }
   ],
   "source": [
    "import seaborn as sns\n",
    "import matplotlib.pyplot as plt\n",
    "import pandas as pd\n",
    "\n",
    "# Example mapping of EVENTS_CLASS to descriptions\n",
    "class_definitions = {\n",
    "    1: '1-10 Event',\n",
    "    2: '11-50 Events',\n",
    "    3: '51-100 Events',\n",
    "    4: '101-200 Events',\n",
    "    5: '201-400 Events',\n",
    "}\n",
    "\n",
    "# Create the plot\n",
    "plt.figure(figsize=(10, 6))\n",
    "sns.boxplot(data=filtered_df, x='EVENTS_CLASS', y='PERCENTAGE_VISIT_CHANGE', palette='coolwarm')\n",
    "plt.xlabel('Events Class')\n",
    "plt.ylabel('Percentage Visit Change')\n",
    "plt.title('Percentage Visit Change by Attended Class')\n",
    "\n",
    "# Map EVENTS_CLASS to descriptions\n",
    "mapped_labels = [class_definitions.get(cls, f\"Class {cls}\") for cls in filtered_df['EVENTS_CLASS'].unique()]\n",
    "handles = [plt.Line2D([0], [0], color='white', label=f'{cls}: {desc}', marker='o', linestyle='') \n",
    "           for cls, desc in class_definitions.items()]\n",
    "\n",
    "# Add the legend at the top-left\n",
    "plt.legend(handles=handles, title='Class Definitions', loc='upper left', frameon=True, fontsize=10)\n",
    "\n",
    "# Save the plot\n",
    "plt.savefig('percentage_visit_change_by_events_class.png', dpi=300, bbox_inches='tight')\n",
    "\n",
    "# Show the plot\n",
    "plt.show()\n"
   ]
  },
  {
   "cell_type": "code",
   "execution_count": 25,
   "metadata": {},
   "outputs": [],
   "source": [
    "# CREATED BOX PLOT SUCCESSFULLY"
   ]
  },
  {
   "cell_type": "code",
   "execution_count": 27,
   "metadata": {},
   "outputs": [],
   "source": [
    "# END -- 25 NOV 2025"
   ]
  },
  {
   "cell_type": "markdown",
   "metadata": {},
   "source": [
    "### BELOW ARE OLD CODE: IGNORE PLEASE!"
   ]
  },
  {
   "cell_type": "code",
   "execution_count": null,
   "metadata": {},
   "outputs": [],
   "source": []
  },
  {
   "cell_type": "code",
   "execution_count": null,
   "metadata": {},
   "outputs": [],
   "source": []
  },
  {
   "cell_type": "code",
   "execution_count": 7,
   "metadata": {},
   "outputs": [],
   "source": [
    "# OLD"
   ]
  },
  {
   "cell_type": "code",
   "execution_count": 6,
   "metadata": {},
   "outputs": [
    {
     "data": {
      "text/plain": [
       "count    11164.000000\n",
       "mean        12.920906\n",
       "std         58.959474\n",
       "min          1.000000\n",
       "25%          1.000000\n",
       "50%          3.000000\n",
       "75%          8.000000\n",
       "max       2402.000000\n",
       "Name: EVENTS_COUNT, dtype: float64"
      ]
     },
     "execution_count": 6,
     "metadata": {},
     "output_type": "execute_result"
    }
   ],
   "source": [
    "df['EVENTS_COUNT'].describe()"
   ]
  },
  {
   "cell_type": "code",
   "execution_count": 54,
   "metadata": {},
   "outputs": [
    {
     "data": {
      "text/html": [
       "<div>\n",
       "<style scoped>\n",
       "    .dataframe tbody tr th:only-of-type {\n",
       "        vertical-align: middle;\n",
       "    }\n",
       "\n",
       "    .dataframe tbody tr th {\n",
       "        vertical-align: top;\n",
       "    }\n",
       "\n",
       "    .dataframe thead th {\n",
       "        text-align: right;\n",
       "    }\n",
       "</style>\n",
       "<table border=\"1\" class=\"dataframe\">\n",
       "  <thead>\n",
       "    <tr style=\"text-align: right;\">\n",
       "      <th></th>\n",
       "      <th>DAY_OF_WEEK</th>\n",
       "      <th>START_HOUR</th>\n",
       "      <th>BGFIPS</th>\n",
       "      <th>TOTAL_VISITS</th>\n",
       "      <th>AVG_VISITS</th>\n",
       "      <th>EVENTS_COUNT</th>\n",
       "      <th>EVENTS_CLASS</th>\n",
       "    </tr>\n",
       "  </thead>\n",
       "  <tbody>\n",
       "    <tr>\n",
       "      <th>0</th>\n",
       "      <td>Friday</td>\n",
       "      <td>0</td>\n",
       "      <td>60014229002</td>\n",
       "      <td>7.0</td>\n",
       "      <td>2.333333</td>\n",
       "      <td>3</td>\n",
       "      <td>2</td>\n",
       "    </tr>\n",
       "    <tr>\n",
       "      <th>1</th>\n",
       "      <td>Friday</td>\n",
       "      <td>0</td>\n",
       "      <td>60330013003</td>\n",
       "      <td>0.0</td>\n",
       "      <td>0.000000</td>\n",
       "      <td>4</td>\n",
       "      <td>3</td>\n",
       "    </tr>\n",
       "    <tr>\n",
       "      <th>2</th>\n",
       "      <td>Friday</td>\n",
       "      <td>0</td>\n",
       "      <td>60371252002</td>\n",
       "      <td>2.0</td>\n",
       "      <td>2.000000</td>\n",
       "      <td>1</td>\n",
       "      <td>1</td>\n",
       "    </tr>\n",
       "    <tr>\n",
       "      <th>3</th>\n",
       "      <td>Friday</td>\n",
       "      <td>0</td>\n",
       "      <td>60372032002</td>\n",
       "      <td>0.0</td>\n",
       "      <td>0.000000</td>\n",
       "      <td>1</td>\n",
       "      <td>1</td>\n",
       "    </tr>\n",
       "    <tr>\n",
       "      <th>4</th>\n",
       "      <td>Friday</td>\n",
       "      <td>0</td>\n",
       "      <td>60372374012</td>\n",
       "      <td>0.0</td>\n",
       "      <td>0.000000</td>\n",
       "      <td>1</td>\n",
       "      <td>1</td>\n",
       "    </tr>\n",
       "  </tbody>\n",
       "</table>\n",
       "</div>"
      ],
      "text/plain": [
       "  DAY_OF_WEEK  START_HOUR       BGFIPS  TOTAL_VISITS  AVG_VISITS  \\\n",
       "0      Friday           0  60014229002           7.0    2.333333   \n",
       "1      Friday           0  60330013003           0.0    0.000000   \n",
       "2      Friday           0  60371252002           2.0    2.000000   \n",
       "3      Friday           0  60372032002           0.0    0.000000   \n",
       "4      Friday           0  60372374012           0.0    0.000000   \n",
       "\n",
       "   EVENTS_COUNT  EVENTS_CLASS  \n",
       "0             3             2  \n",
       "1             4             3  \n",
       "2             1             1  \n",
       "3             1             1  \n",
       "4             1             1  "
      ]
     },
     "metadata": {},
     "output_type": "display_data"
    }
   ],
   "source": [
    "\n",
    "# Define the EVENTS_CLASS column based on the conditions\n",
    "df['EVENTS_CLASS'] = df['EVENTS_COUNT'].apply(lambda x: 1 if x == 1 else (2 if x <= 3 else (3 if x <= 8 else 4)))\n",
    "\n",
    "# Display the DataFrame with the new column\n",
    "display(df.head())"
   ]
  },
  {
   "cell_type": "code",
   "execution_count": 55,
   "metadata": {},
   "outputs": [
    {
     "data": {
      "text/plain": [
       "EVENTS_CLASS\n",
       "1    3425\n",
       "3    2647\n",
       "4    2598\n",
       "2    2494\n",
       "Name: count, dtype: int64"
      ]
     },
     "execution_count": 55,
     "metadata": {},
     "output_type": "execute_result"
    }
   ],
   "source": [
    "df['EVENTS_CLASS'].value_counts()"
   ]
  },
  {
   "cell_type": "code",
   "execution_count": 56,
   "metadata": {},
   "outputs": [
    {
     "data": {
      "text/html": [
       "<div>\n",
       "<style scoped>\n",
       "    .dataframe tbody tr th:only-of-type {\n",
       "        vertical-align: middle;\n",
       "    }\n",
       "\n",
       "    .dataframe tbody tr th {\n",
       "        vertical-align: top;\n",
       "    }\n",
       "\n",
       "    .dataframe thead th {\n",
       "        text-align: right;\n",
       "    }\n",
       "</style>\n",
       "<table border=\"1\" class=\"dataframe\">\n",
       "  <thead>\n",
       "    <tr style=\"text-align: right;\">\n",
       "      <th></th>\n",
       "      <th>DAY_OF_WEEK</th>\n",
       "      <th>START_HOUR</th>\n",
       "      <th>BGFIPS</th>\n",
       "      <th>TOTAL_VISITS</th>\n",
       "      <th>AVG_VISITS</th>\n",
       "      <th>EVENTS_COUNT</th>\n",
       "      <th>EVENTS_CLASS</th>\n",
       "      <th>CLASS_MEDIAN_VISITS</th>\n",
       "    </tr>\n",
       "  </thead>\n",
       "  <tbody>\n",
       "    <tr>\n",
       "      <th>0</th>\n",
       "      <td>Friday</td>\n",
       "      <td>0</td>\n",
       "      <td>60014229002</td>\n",
       "      <td>7.0</td>\n",
       "      <td>2.333333</td>\n",
       "      <td>3</td>\n",
       "      <td>2</td>\n",
       "      <td>3.500000</td>\n",
       "    </tr>\n",
       "    <tr>\n",
       "      <th>1</th>\n",
       "      <td>Friday</td>\n",
       "      <td>0</td>\n",
       "      <td>60330013003</td>\n",
       "      <td>0.0</td>\n",
       "      <td>0.000000</td>\n",
       "      <td>4</td>\n",
       "      <td>3</td>\n",
       "      <td>6.500000</td>\n",
       "    </tr>\n",
       "    <tr>\n",
       "      <th>2</th>\n",
       "      <td>Friday</td>\n",
       "      <td>0</td>\n",
       "      <td>60371252002</td>\n",
       "      <td>2.0</td>\n",
       "      <td>2.000000</td>\n",
       "      <td>1</td>\n",
       "      <td>1</td>\n",
       "      <td>3.000000</td>\n",
       "    </tr>\n",
       "    <tr>\n",
       "      <th>3</th>\n",
       "      <td>Friday</td>\n",
       "      <td>0</td>\n",
       "      <td>60372032002</td>\n",
       "      <td>0.0</td>\n",
       "      <td>0.000000</td>\n",
       "      <td>1</td>\n",
       "      <td>1</td>\n",
       "      <td>3.000000</td>\n",
       "    </tr>\n",
       "    <tr>\n",
       "      <th>4</th>\n",
       "      <td>Friday</td>\n",
       "      <td>0</td>\n",
       "      <td>60372374012</td>\n",
       "      <td>0.0</td>\n",
       "      <td>0.000000</td>\n",
       "      <td>1</td>\n",
       "      <td>1</td>\n",
       "      <td>3.000000</td>\n",
       "    </tr>\n",
       "    <tr>\n",
       "      <th>5</th>\n",
       "      <td>Friday</td>\n",
       "      <td>0</td>\n",
       "      <td>60374636022</td>\n",
       "      <td>0.0</td>\n",
       "      <td>0.000000</td>\n",
       "      <td>1</td>\n",
       "      <td>1</td>\n",
       "      <td>3.000000</td>\n",
       "    </tr>\n",
       "    <tr>\n",
       "      <th>6</th>\n",
       "      <td>Friday</td>\n",
       "      <td>0</td>\n",
       "      <td>60450111023</td>\n",
       "      <td>5166.0</td>\n",
       "      <td>6.128114</td>\n",
       "      <td>843</td>\n",
       "      <td>4</td>\n",
       "      <td>8.598387</td>\n",
       "    </tr>\n",
       "    <tr>\n",
       "      <th>7</th>\n",
       "      <td>Friday</td>\n",
       "      <td>0</td>\n",
       "      <td>60530004002</td>\n",
       "      <td>9.0</td>\n",
       "      <td>3.000000</td>\n",
       "      <td>3</td>\n",
       "      <td>2</td>\n",
       "      <td>3.500000</td>\n",
       "    </tr>\n",
       "    <tr>\n",
       "      <th>8</th>\n",
       "      <td>Friday</td>\n",
       "      <td>0</td>\n",
       "      <td>60590218131</td>\n",
       "      <td>5445.0</td>\n",
       "      <td>68.924051</td>\n",
       "      <td>79</td>\n",
       "      <td>4</td>\n",
       "      <td>8.598387</td>\n",
       "    </tr>\n",
       "    <tr>\n",
       "      <th>9</th>\n",
       "      <td>Friday</td>\n",
       "      <td>0</td>\n",
       "      <td>60650512001</td>\n",
       "      <td>8.0</td>\n",
       "      <td>8.000000</td>\n",
       "      <td>1</td>\n",
       "      <td>1</td>\n",
       "      <td>3.000000</td>\n",
       "    </tr>\n",
       "  </tbody>\n",
       "</table>\n",
       "</div>"
      ],
      "text/plain": [
       "  DAY_OF_WEEK  START_HOUR       BGFIPS  TOTAL_VISITS  AVG_VISITS  \\\n",
       "0      Friday           0  60014229002           7.0    2.333333   \n",
       "1      Friday           0  60330013003           0.0    0.000000   \n",
       "2      Friday           0  60371252002           2.0    2.000000   \n",
       "3      Friday           0  60372032002           0.0    0.000000   \n",
       "4      Friday           0  60372374012           0.0    0.000000   \n",
       "5      Friday           0  60374636022           0.0    0.000000   \n",
       "6      Friday           0  60450111023        5166.0    6.128114   \n",
       "7      Friday           0  60530004002           9.0    3.000000   \n",
       "8      Friday           0  60590218131        5445.0   68.924051   \n",
       "9      Friday           0  60650512001           8.0    8.000000   \n",
       "\n",
       "   EVENTS_COUNT  EVENTS_CLASS  CLASS_MEDIAN_VISITS  \n",
       "0             3             2             3.500000  \n",
       "1             4             3             6.500000  \n",
       "2             1             1             3.000000  \n",
       "3             1             1             3.000000  \n",
       "4             1             1             3.000000  \n",
       "5             1             1             3.000000  \n",
       "6           843             4             8.598387  \n",
       "7             3             2             3.500000  \n",
       "8            79             4             8.598387  \n",
       "9             1             1             3.000000  "
      ]
     },
     "metadata": {},
     "output_type": "display_data"
    }
   ],
   "source": [
    "# Calculate the average of AVG_VISITS for each EVENTS_CLASS\n",
    "median_visits_per_class = df.groupby('EVENTS_CLASS')['AVG_VISITS'].transform('median')\n",
    "\n",
    "# Assign the result to the new column TOTAL_AVG_VISITS\n",
    "df['CLASS_MEDIAN_VISITS'] = median_visits_per_class\n",
    "\n",
    "# Display the DataFrame with the new column\n",
    "display(df[:10])"
   ]
  },
  {
   "cell_type": "code",
   "execution_count": 58,
   "metadata": {},
   "outputs": [
    {
     "data": {
      "text/html": [
       "<div>\n",
       "<style scoped>\n",
       "    .dataframe tbody tr th:only-of-type {\n",
       "        vertical-align: middle;\n",
       "    }\n",
       "\n",
       "    .dataframe tbody tr th {\n",
       "        vertical-align: top;\n",
       "    }\n",
       "\n",
       "    .dataframe thead th {\n",
       "        text-align: right;\n",
       "    }\n",
       "</style>\n",
       "<table border=\"1\" class=\"dataframe\">\n",
       "  <thead>\n",
       "    <tr style=\"text-align: right;\">\n",
       "      <th></th>\n",
       "      <th>DAY_OF_WEEK</th>\n",
       "      <th>START_HOUR</th>\n",
       "      <th>BGFIPS</th>\n",
       "      <th>TOTAL_VISITS</th>\n",
       "      <th>AVG_VISITS</th>\n",
       "      <th>EVENTS_COUNT</th>\n",
       "      <th>EVENTS_CLASS</th>\n",
       "      <th>CLASS_MEDIAN_VISITS</th>\n",
       "      <th>PERCENTAGE_VISIT_CHANGE</th>\n",
       "    </tr>\n",
       "  </thead>\n",
       "  <tbody>\n",
       "    <tr>\n",
       "      <th>0</th>\n",
       "      <td>Friday</td>\n",
       "      <td>0</td>\n",
       "      <td>60014229002</td>\n",
       "      <td>7.0</td>\n",
       "      <td>2.333333</td>\n",
       "      <td>3</td>\n",
       "      <td>2</td>\n",
       "      <td>3.500000</td>\n",
       "      <td>-0.333333</td>\n",
       "    </tr>\n",
       "    <tr>\n",
       "      <th>1</th>\n",
       "      <td>Friday</td>\n",
       "      <td>0</td>\n",
       "      <td>60330013003</td>\n",
       "      <td>0.0</td>\n",
       "      <td>0.000000</td>\n",
       "      <td>4</td>\n",
       "      <td>3</td>\n",
       "      <td>6.500000</td>\n",
       "      <td>-1.000000</td>\n",
       "    </tr>\n",
       "    <tr>\n",
       "      <th>2</th>\n",
       "      <td>Friday</td>\n",
       "      <td>0</td>\n",
       "      <td>60371252002</td>\n",
       "      <td>2.0</td>\n",
       "      <td>2.000000</td>\n",
       "      <td>1</td>\n",
       "      <td>1</td>\n",
       "      <td>3.000000</td>\n",
       "      <td>-0.333333</td>\n",
       "    </tr>\n",
       "    <tr>\n",
       "      <th>3</th>\n",
       "      <td>Friday</td>\n",
       "      <td>0</td>\n",
       "      <td>60372032002</td>\n",
       "      <td>0.0</td>\n",
       "      <td>0.000000</td>\n",
       "      <td>1</td>\n",
       "      <td>1</td>\n",
       "      <td>3.000000</td>\n",
       "      <td>-1.000000</td>\n",
       "    </tr>\n",
       "    <tr>\n",
       "      <th>4</th>\n",
       "      <td>Friday</td>\n",
       "      <td>0</td>\n",
       "      <td>60372374012</td>\n",
       "      <td>0.0</td>\n",
       "      <td>0.000000</td>\n",
       "      <td>1</td>\n",
       "      <td>1</td>\n",
       "      <td>3.000000</td>\n",
       "      <td>-1.000000</td>\n",
       "    </tr>\n",
       "    <tr>\n",
       "      <th>5</th>\n",
       "      <td>Friday</td>\n",
       "      <td>0</td>\n",
       "      <td>60374636022</td>\n",
       "      <td>0.0</td>\n",
       "      <td>0.000000</td>\n",
       "      <td>1</td>\n",
       "      <td>1</td>\n",
       "      <td>3.000000</td>\n",
       "      <td>-1.000000</td>\n",
       "    </tr>\n",
       "    <tr>\n",
       "      <th>6</th>\n",
       "      <td>Friday</td>\n",
       "      <td>0</td>\n",
       "      <td>60450111023</td>\n",
       "      <td>5166.0</td>\n",
       "      <td>6.128114</td>\n",
       "      <td>843</td>\n",
       "      <td>4</td>\n",
       "      <td>8.598387</td>\n",
       "      <td>-0.287295</td>\n",
       "    </tr>\n",
       "    <tr>\n",
       "      <th>7</th>\n",
       "      <td>Friday</td>\n",
       "      <td>0</td>\n",
       "      <td>60530004002</td>\n",
       "      <td>9.0</td>\n",
       "      <td>3.000000</td>\n",
       "      <td>3</td>\n",
       "      <td>2</td>\n",
       "      <td>3.500000</td>\n",
       "      <td>-0.142857</td>\n",
       "    </tr>\n",
       "    <tr>\n",
       "      <th>8</th>\n",
       "      <td>Friday</td>\n",
       "      <td>0</td>\n",
       "      <td>60590218131</td>\n",
       "      <td>5445.0</td>\n",
       "      <td>68.924051</td>\n",
       "      <td>79</td>\n",
       "      <td>4</td>\n",
       "      <td>8.598387</td>\n",
       "      <td>7.015928</td>\n",
       "    </tr>\n",
       "    <tr>\n",
       "      <th>9</th>\n",
       "      <td>Friday</td>\n",
       "      <td>0</td>\n",
       "      <td>60650512001</td>\n",
       "      <td>8.0</td>\n",
       "      <td>8.000000</td>\n",
       "      <td>1</td>\n",
       "      <td>1</td>\n",
       "      <td>3.000000</td>\n",
       "      <td>1.666667</td>\n",
       "    </tr>\n",
       "  </tbody>\n",
       "</table>\n",
       "</div>"
      ],
      "text/plain": [
       "  DAY_OF_WEEK  START_HOUR       BGFIPS  TOTAL_VISITS  AVG_VISITS  \\\n",
       "0      Friday           0  60014229002           7.0    2.333333   \n",
       "1      Friday           0  60330013003           0.0    0.000000   \n",
       "2      Friday           0  60371252002           2.0    2.000000   \n",
       "3      Friday           0  60372032002           0.0    0.000000   \n",
       "4      Friday           0  60372374012           0.0    0.000000   \n",
       "5      Friday           0  60374636022           0.0    0.000000   \n",
       "6      Friday           0  60450111023        5166.0    6.128114   \n",
       "7      Friday           0  60530004002           9.0    3.000000   \n",
       "8      Friday           0  60590218131        5445.0   68.924051   \n",
       "9      Friday           0  60650512001           8.0    8.000000   \n",
       "\n",
       "   EVENTS_COUNT  EVENTS_CLASS  CLASS_MEDIAN_VISITS  PERCENTAGE_VISIT_CHANGE  \n",
       "0             3             2             3.500000                -0.333333  \n",
       "1             4             3             6.500000                -1.000000  \n",
       "2             1             1             3.000000                -0.333333  \n",
       "3             1             1             3.000000                -1.000000  \n",
       "4             1             1             3.000000                -1.000000  \n",
       "5             1             1             3.000000                -1.000000  \n",
       "6           843             4             8.598387                -0.287295  \n",
       "7             3             2             3.500000                -0.142857  \n",
       "8            79             4             8.598387                 7.015928  \n",
       "9             1             1             3.000000                 1.666667  "
      ]
     },
     "metadata": {},
     "output_type": "display_data"
    }
   ],
   "source": [
    "# Calculate PERCENTAGE_VISIT_CHANGE\n",
    "df['PERCENTAGE_VISIT_CHANGE'] = (df['AVG_VISITS'] - df['CLASS_MEDIAN_VISITS']) / df['CLASS_MEDIAN_VISITS']\n",
    "\n",
    "# Display the DataFrame with the new column\n",
    "display(df[:10])"
   ]
  },
  {
   "cell_type": "code",
   "execution_count": 60,
   "metadata": {},
   "outputs": [
    {
     "name": "stdout",
     "output_type": "stream",
     "text": [
      "(3861, 9)\n"
     ]
    }
   ],
   "source": [
    "x = df[df['PERCENTAGE_VISIT_CHANGE']>1]\n",
    "print(x.shape)"
   ]
  },
  {
   "cell_type": "code",
   "execution_count": 61,
   "metadata": {},
   "outputs": [
    {
     "data": {
      "text/plain": [
       "count    3861.000000\n",
       "mean        9.941298\n",
       "std        23.369800\n",
       "min         1.000375\n",
       "25%         2.200000\n",
       "50%         4.285714\n",
       "75%         9.333333\n",
       "max       497.476190\n",
       "Name: PERCENTAGE_VISIT_CHANGE, dtype: float64"
      ]
     },
     "execution_count": 61,
     "metadata": {},
     "output_type": "execute_result"
    }
   ],
   "source": [
    "x['PERCENTAGE_VISIT_CHANGE'].describe()"
   ]
  },
  {
   "cell_type": "code",
   "execution_count": 62,
   "metadata": {},
   "outputs": [
    {
     "name": "stdout",
     "output_type": "stream",
     "text": [
      "(7183, 9)\n"
     ]
    }
   ],
   "source": [
    "y = df[df['PERCENTAGE_VISIT_CHANGE']<1]\n",
    "print(y.shape)"
   ]
  },
  {
   "cell_type": "code",
   "execution_count": 63,
   "metadata": {},
   "outputs": [
    {
     "data": {
      "text/plain": [
       "count    7183.000000\n",
       "mean       -0.451553\n",
       "std         0.544124\n",
       "min        -1.000000\n",
       "25%        -0.961538\n",
       "50%        -0.636560\n",
       "75%        -0.093465\n",
       "max         0.998195\n",
       "Name: PERCENTAGE_VISIT_CHANGE, dtype: float64"
      ]
     },
     "execution_count": 63,
     "metadata": {},
     "output_type": "execute_result"
    }
   ],
   "source": [
    "y['PERCENTAGE_VISIT_CHANGE'].describe()"
   ]
  },
  {
   "cell_type": "code",
   "execution_count": 59,
   "metadata": {},
   "outputs": [
    {
     "name": "stderr",
     "output_type": "stream",
     "text": [
      "C:\\Users\\HP\\AppData\\Local\\Temp\\ipykernel_13344\\3636563785.py:6: FutureWarning: \n",
      "\n",
      "Passing `palette` without assigning `hue` is deprecated and will be removed in v0.14.0. Assign the `x` variable to `hue` and set `legend=False` for the same effect.\n",
      "\n",
      "  sns.boxplot(data=df, x='EVENTS_CLASS', y='PERCENTAGE_VISIT_CHANGE', palette='coolwarm')\n"
     ]
    },
    {
     "data": {
      "image/png": "[encoded data removed]",
      "text/plain": [
       "<Figure size 1000x600 with 1 Axes>"
      ]
     },
     "metadata": {},
     "output_type": "display_data"
    }
   ],
   "source": [
    "\n",
    "import seaborn as sns\n",
    "import matplotlib.pyplot as plt\n",
    "import pandas as pd\n",
    "\n",
    "plt.figure(figsize=(10, 6))\n",
    "sns.boxplot(data=df, x='EVENTS_CLASS', y='PERCENTAGE_VISIT_CHANGE', palette='coolwarm')\n",
    "plt.xlabel('Events Class')\n",
    "plt.ylabel('Percentage Visit Change')\n",
    "plt.title('Percentage Visit Change by Events Class')\n",
    "plt.show()\n"
   ]
  },
  {
   "cell_type": "code",
   "execution_count": 34,
   "metadata": {},
   "outputs": [
    {
     "name": "stdout",
     "output_type": "stream",
     "text": [
      "float64\n"
     ]
    }
   ],
   "source": [
    "print(df['PERCENTAGE_VISIT_CHANGE'].dtype)\n"
   ]
  },
  {
   "cell_type": "code",
   "execution_count": 35,
   "metadata": {},
   "outputs": [
    {
     "data": {
      "image/png": "[encoded data removed]",
      "text/plain": [
       "<Figure size 1000x600 with 1 Axes>"
      ]
     },
     "metadata": {},
     "output_type": "display_data"
    }
   ],
   "source": [
    "import pandas as pd\n",
    "import numpy as np\n",
    "\n",
    "# Create a sample dataset\n",
    "data = {\n",
    "    'EVENTS_COUNT': np.random.choice([0, 1, 2, 3, 4, 5], 100),  # Number of events\n",
    "    'PERCENTAGE_VISIT_CHANGE': np.random.normal(loc=0, scale=20, size=100)  # Visit percentage change\n",
    "}\n",
    "dff = pd.DataFrame(data)\n",
    "import seaborn as sns\n",
    "import matplotlib.pyplot as plt\n",
    "\n",
    "plt.figure(figsize=(10, 6))\n",
    "sns.boxplot(x='EVENTS_COUNT', y='PERCENTAGE_VISIT_CHANGE', data=dff)\n",
    "plt.xlabel('Number of Events')\n",
    "plt.ylabel('Percentage Visit Change')\n",
    "plt.title('Box Plot of Visit Change by Number of Events')\n",
    "plt.show()\n"
   ]
  },
  {
   "cell_type": "code",
   "execution_count": 36,
   "metadata": {},
   "outputs": [
    {
     "data": {
      "text/html": [
       "<div>\n",
       "<style scoped>\n",
       "    .dataframe tbody tr th:only-of-type {\n",
       "        vertical-align: middle;\n",
       "    }\n",
       "\n",
       "    .dataframe tbody tr th {\n",
       "        vertical-align: top;\n",
       "    }\n",
       "\n",
       "    .dataframe thead th {\n",
       "        text-align: right;\n",
       "    }\n",
       "</style>\n",
       "<table border=\"1\" class=\"dataframe\">\n",
       "  <thead>\n",
       "    <tr style=\"text-align: right;\">\n",
       "      <th></th>\n",
       "      <th>EVENTS_COUNT</th>\n",
       "      <th>PERCENTAGE_VISIT_CHANGE</th>\n",
       "    </tr>\n",
       "  </thead>\n",
       "  <tbody>\n",
       "    <tr>\n",
       "      <th>0</th>\n",
       "      <td>3</td>\n",
       "      <td>25.320815</td>\n",
       "    </tr>\n",
       "    <tr>\n",
       "      <th>1</th>\n",
       "      <td>1</td>\n",
       "      <td>-11.842952</td>\n",
       "    </tr>\n",
       "    <tr>\n",
       "      <th>2</th>\n",
       "      <td>1</td>\n",
       "      <td>-16.431513</td>\n",
       "    </tr>\n",
       "    <tr>\n",
       "      <th>3</th>\n",
       "      <td>5</td>\n",
       "      <td>12.021277</td>\n",
       "    </tr>\n",
       "    <tr>\n",
       "      <th>4</th>\n",
       "      <td>2</td>\n",
       "      <td>-11.546751</td>\n",
       "    </tr>\n",
       "  </tbody>\n",
       "</table>\n",
       "</div>"
      ],
      "text/plain": [
       "   EVENTS_COUNT  PERCENTAGE_VISIT_CHANGE\n",
       "0             3                25.320815\n",
       "1             1               -11.842952\n",
       "2             1               -16.431513\n",
       "3             5                12.021277\n",
       "4             2               -11.546751"
      ]
     },
     "execution_count": 36,
     "metadata": {},
     "output_type": "execute_result"
    }
   ],
   "source": [
    "dff.head()"
   ]
  },
  {
   "cell_type": "code",
   "execution_count": null,
   "metadata": {},
   "outputs": [],
   "source": [
    "     "
   ]
  }
 ],
 "metadata": {
  "kernelspec": {
   "display_name": "venv",
   "language": "python",
   "name": "python3"
  },
  "language_info": {
   "codemirror_mode": {
    "name": "ipython",
    "version": 3
   },
   "file_extension": ".py",
   "mimetype": "text/x-python",
   "name": "python",
   "nbconvert_exporter": "python",
   "pygments_lexer": "ipython3",
   "version": "3.10.1"
  }
 },
 "nbformat": 4,
 "nbformat_minor": 2
}
