{
 "cells": [
  {
   "cell_type": "code",
   "execution_count": null,
   "metadata": {},
   "outputs": [],
   "source": [
    "# read data\n",
    "import pandas as pd\n",
    "# Set the maximum number of rows and columns to display\n",
    "pd.set_option('display.max_rows', 200)  # Adjust this number as needed\n",
    "pd.set_option('display.max_columns', 50)  # Adjust this number as needed"
   ]
  },
  {
   "cell_type": "markdown",
   "metadata": {},
   "source": [
    "### Get Mobility Data"
   ]
  },
  {
   "cell_type": "code",
   "execution_count": null,
   "metadata": {},
   "outputs": [],
   "source": [
    "import os \n",
    "\n",
    "# Specify the folder path \n",
    "mobility_data_path = '../../data_CityEvent/SafeGraph/'\n",
    "\n",
    "# List all files in the folder\n",
    "mobility_data = os.listdir(mobility_data_path)\n",
    "\n",
    "# file_names.remove('unscheduled_intermediate') \n",
    "\n",
    "# # Print the file names\n",
    "# for mobility_file_name in mobility_data:\n",
    "#     print(mobility_file_name)"
   ]
  },
  {
   "cell_type": "markdown",
   "metadata": {},
   "source": [
    "### Get hourly events data by category"
   ]
  },
  {
   "cell_type": "code",
   "execution_count": null,
   "metadata": {},
   "outputs": [],
   "source": [
    "# Specify the folder path \n",
    "events_data_path = '../../data_CityEvent/processed/3_hourly_events_cbgid_category/'\n",
    "\n",
    "# List all files in the folder\n",
    "events_data = os.listdir(events_data_path)\n",
    "\n",
    "# events_data.remove('archive_before_minutes_floored') \n",
    "\n",
    "# for events_data_file_name in events_data:\n",
    "#     print(events_data_file_name)"
   ]
  },
  {
   "cell_type": "markdown",
   "metadata": {},
   "source": [
    "### Function to assign mobility/visits in events data"
   ]
  },
  {
   "cell_type": "code",
   "execution_count": null,
   "metadata": {},
   "outputs": [],
   "source": [
    "def get_visit_in_events_dataset(events_dataset, mobility_dataset):\n",
    "    # Convert both time columns to datetime if not already\n",
    "    mobility_dataset['Date'] = pd.to_datetime(mobility_dataset['Date'])\n",
    "    events_dataset['Date'] = pd.to_datetime(events_dataset['Date'])\n",
    "\n",
    "    # Merging the two DataFrames\n",
    "    events_dataset = pd.merge(events_dataset, mobility_dataset[['BGFIPS', 'Date', 'Visit']], on=['BGFIPS', 'Date'], how='left')\n",
    "    \n",
    "    # Update Visits_Mobility by adding Visit where Visit is not NaN\n",
    "    events_dataset['Visits_Mobility'] += events_dataset['Visit'].fillna(int(0))\n",
    "\n",
    "    # Drop the Visit column\n",
    "    events_dataset.drop(columns=['Visit'], inplace=True)\n",
    "\n",
    "    return events_dataset"
   ]
  },
  {
   "cell_type": "markdown",
   "metadata": {},
   "source": [
    "### Run loop on events category datasets for assigning mobility, and save"
   ]
  },
  {
   "cell_type": "code",
   "execution_count": null,
   "metadata": {},
   "outputs": [],
   "source": [
    "# Loop for events data\n",
    "for events_data_file_name in events_data:\n",
    "    \n",
    "    # Get events dataframe\n",
    "    events = pd.read_csv(os.path.join(events_data_path,events_data_file_name))\n",
    "    print(events_data_file_name)\n",
    "    # Events dataset sanity check\n",
    "    # print(events.shape)\n",
    "\n",
    "    # Events dataset preprocessing\n",
    "    events.rename(columns={'GEOID': 'BGFIPS'}, inplace=True)\n",
    "    events.rename(columns={'hourly_times': 'Date'}, inplace=True)\n",
    "    # events['Date'] = pd.to_datetime(events['Date'])\n",
    "    events['Visits_Mobility'] = 0\n",
    "\n",
    "    # Loop for mobility data\n",
    "    for mobility_file_name in mobility_data:\n",
    "        mobility = pd.read_csv(os.path.join(mobility_data_path,mobility_file_name))\n",
    "        print(mobility_file_name)\n",
    "        # Mobility dataset sanity check\n",
    "        # print(mobility.shape)\n",
    "\n",
    "        # Get Visit counts from mobility dataset on events dataset\n",
    "        events = get_visit_in_events_dataset(events_dataset=events, mobility_dataset=mobility)\n",
    "        # break\n",
    "\n",
    "    # Save into target destination in csv format\n",
    "    save_data_path = '../../data_CityEvent/processed/4_events_join_w_mobility/'\n",
    "    events.to_csv(f'{save_data_path}/{events_data_file_name[:-4]}_visits.csv', index=False)\n",
    "    # break"
   ]
  },
  {
   "cell_type": "markdown",
   "metadata": {},
   "source": [
    "### Box Plot Function"
   ]
  },
  {
   "cell_type": "code",
   "execution_count": null,
   "metadata": {},
   "outputs": [],
   "source": [
    "import seaborn as sns\n",
    "import matplotlib.pyplot as plt\n",
    "import pandas as pd\n",
    "\n",
    "def create_box_plot(df, df_name='event_category'):\n",
    "    # Create the plot\n",
    "    plt.figure(figsize=(10, 6))\n",
    "    sns.boxplot(data=df, x='num_events', y='percentage_visit_change', palette='coolwarm')\n",
    "    plt.xlabel('Number of Events')\n",
    "    plt.ylabel('Percentage Visit Change')\n",
    "    plt.title(df_name)\n",
    "\n",
    "    # Save the plot\n",
    "    plt.savefig(f'../../results/1_box_plots/{df_name}.png', dpi=300, bbox_inches='tight')\n",
    "\n",
    "    # Show the plot\n",
    "    plt.show()\n"
   ]
  },
  {
   "cell_type": "markdown",
   "metadata": {},
   "source": [
    "### Process data to get average visits for box plot"
   ]
  },
  {
   "cell_type": "code",
   "execution_count": null,
   "metadata": {},
   "outputs": [],
   "source": [
    "def data_processing(df, df_name=''):\n",
    "    try:\n",
    "        # Step 1: Get new columns - day of the week and hour\n",
    "        df['Date'] = pd.to_datetime(df['Date'])  # Ensure the 'Date' column is in datetime format\n",
    "        df['date_without_time'] = df['Date'].dt.date  # Extract only the date\n",
    "        df['day_of_week'] = df['Date'].dt.day_name()  # Get the day name (e.g., Monday, Tuesday)\n",
    "        df['hour'] = df['Date'].dt.hour  # Get the hour of the day\n",
    "        print(\"Step 1: Date processing completed successfully.\")\n",
    "\n",
    "        # Step 2: Calculate total visits on the day\n",
    "        df['total_visits_on_the_day'] = df.groupby(['BGFIPS', 'date_without_time'])['Visits_Mobility'].transform('sum')\n",
    "        print(\"Step 2: Total visits calculation completed successfully.\")\n",
    "\n",
    "        # Step 3: Calculate the mean visits per day per weekday\n",
    "        df['avg_visits_perday_perweekday'] = df.groupby(['BGFIPS', 'day_of_week'])['total_visits_on_the_day'].transform('mean')\n",
    "        print(\"Step 3: Average visits calculation completed successfully.\")\n",
    "\n",
    "        # Step 4: Group by 'date_without_time' and 'BGFIPS', count unique 'EVENT_ID's, and merge the rows\n",
    "        df_num_events = df.groupby(['date_without_time', 'BGFIPS'], as_index=False).agg(num_events=('EVENT_ID', 'nunique'))\n",
    "        df = pd.merge(df, df_num_events, on=['date_without_time', 'BGFIPS'], how='left')\n",
    "        print(\"Step 4: Event count and merge completed successfully.\")\n",
    "\n",
    "        # Step 5: Calculate percentage visit change\n",
    "        df['percentage_visit_change'] = (df['total_visits_on_the_day'] - df['avg_visits_perday_perweekday']) / df['avg_visits_perday_perweekday']\n",
    "        print(\"Step 5: Percentage visit change calculation completed successfully.\")\n",
    "\n",
    "        # Step 6: Save dataset\n",
    "        output_path = f'../../data_CityEvent/processed/processed_daily/{df_name}.csv'\n",
    "        df.to_csv(output_path, index=False)\n",
    "        print(f\"Step 6: Dataset saved successfully to {output_path}.\")\n",
    "\n",
    "        # Step 7: Show Box Plot\n",
    "        create_box_plot(df, df_name)\n",
    "        print(\"Step 7: Box plot created successfully.\")\n",
    "        \n",
    "    except Exception as e:\n",
    "        print(f\"An error occurred during processing: {e}\")\n",
    "        \n",
    "    # Optionally return the modified dataframe for further use\n",
    "    return df\n"
   ]
  },
  {
   "cell_type": "code",
   "execution_count": null,
   "metadata": {},
   "outputs": [],
   "source": [
    "import os\n",
    "# LOOP\n",
    "filepath = '../../data_CityEvent/processed/4_events_join_w_mobility/'\n",
    "filenames = os.listdir(filepath)\n",
    "\n",
    "for filename in filenames:\n",
    "    \n",
    "    df_name = filename[:-18]\n",
    "    df = pd.read_csv(f'{filepath}/{df_name}_hourly_visits.csv')\n",
    "    # print(df.shape)\n",
    "\n",
    "    data_processing(df, df_name)"
   ]
  }
 ],
 "metadata": {
  "kernelspec": {
   "display_name": "venv",
   "language": "python",
   "name": "python3"
  },
  "language_info": {
   "name": "python",
   "version": "3.10.1"
  }
 },
 "nbformat": 4,
 "nbformat_minor": 2
}
