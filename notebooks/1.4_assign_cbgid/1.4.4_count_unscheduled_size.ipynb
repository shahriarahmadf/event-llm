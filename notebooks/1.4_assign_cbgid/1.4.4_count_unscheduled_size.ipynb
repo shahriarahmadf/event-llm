{
 "cells": [
  {
   "cell_type": "code",
   "execution_count": 1,
   "metadata": {},
   "outputs": [],
   "source": [
    "# read data\n",
    "import pandas as pd\n",
    "import os\n",
    "# Set the maximum number of rows and columns to display\n",
    "pd.set_option('display.max_rows', 200)  # Adjust this number as needed\n",
    "pd.set_option('display.max_columns', 50)  # Adjust this number as needed"
   ]
  },
  {
   "cell_type": "code",
   "execution_count": 5,
   "metadata": {},
   "outputs": [
    {
     "name": "stdout",
     "output_type": "stream",
     "text": [
      "unscheduled_intermediate_airport-delays.csv\n",
      "unscheduled_intermediate_disasters.csv\n",
      "unscheduled_intermediate_health-warnings.csv\n",
      "unscheduled_intermediate_severe-weather.csv\n",
      "unscheduled_intermediate_terror.csv\n"
     ]
    }
   ],
   "source": [
    "# Specify the folder path \n",
    "folder_path_intermediate = '../../data_CityEvent/processed/events_cbgid_by_category/unscheduled_intermediate'\n",
    "intermediate_file_names = os.listdir(folder_path_intermediate)\n",
    "for file_name in intermediate_file_names:\n",
    "    print(file_name)"
   ]
  },
  {
   "cell_type": "code",
   "execution_count": 6,
   "metadata": {},
   "outputs": [
    {
     "name": "stdout",
     "output_type": "stream",
     "text": [
      "unscheduled_intermediate_airport-delays.csv: (556078, 34)\n",
      "556078\n",
      "unscheduled_intermediate_disasters.csv: (24768, 34)\n",
      "580846\n",
      "unscheduled_intermediate_health-warnings.csv: (578, 34)\n",
      "581424\n",
      "unscheduled_intermediate_severe-weather.csv: (151229, 34)\n",
      "732653\n",
      "unscheduled_intermediate_terror.csv: (1880, 34)\n",
      "734533\n",
      "734533\n"
     ]
    }
   ],
   "source": [
    "import os\n",
    "import pandas as pd\n",
    "size = 0\n",
    "for file_name in intermediate_file_names:\n",
    "    current_df = pd.read_csv(os.path.join(folder_path_intermediate, file_name))\n",
    "    print(f'{file_name}: {current_df.shape}')\n",
    "    size += current_df.shape[0]\n",
    "    print(size)\n",
    "\n",
    "print(size)"
   ]
  },
  {
   "cell_type": "code",
   "execution_count": 2,
   "metadata": {},
   "outputs": [
    {
     "name": "stdout",
     "output_type": "stream",
     "text": [
      "unscheduled_airport-delays.csv\n",
      "unscheduled_disasters.csv\n",
      "unscheduled_health-warnings.csv\n",
      "unscheduled_severe-weather.csv\n",
      "unscheduled_terror.csv\n"
     ]
    }
   ],
   "source": [
    "import os\n",
    "# List all files in the folder\n",
    "folder_path = '../../data_CityEvent/processed/events_cbgid_by_category/'\n",
    "file_names = os.listdir(folder_path)\n",
    "\n",
    "file_names.remove('unscheduled_intermediate') \n",
    "file_names.remove('archive_before_dropping_missing_geometry') \n",
    "file_names = [file_name for file_name in file_names if file_name.startswith('u')]\n",
    "for file_name in file_names:\n",
    "    print(file_name)"
   ]
  },
  {
   "cell_type": "code",
   "execution_count": 3,
   "metadata": {},
   "outputs": [
    {
     "name": "stdout",
     "output_type": "stream",
     "text": [
      "unscheduled_airport-delays.csv: (475296, 36)\n",
      "475296\n",
      "unscheduled_disasters.csv: (7444, 36)\n",
      "482740\n",
      "unscheduled_health-warnings.csv: (543, 36)\n",
      "483283\n",
      "unscheduled_severe-weather.csv: (147794, 36)\n",
      "631077\n",
      "unscheduled_terror.csv: (1859, 36)\n",
      "632936\n",
      "632936\n"
     ]
    }
   ],
   "source": [
    "import os\n",
    "import pandas as pd\n",
    "size = 0\n",
    "for file_name in file_names:\n",
    "    current_df = pd.read_csv(os.path.join(folder_path, file_name))\n",
    "    print(f'{file_name}: {current_df.shape}')\n",
    "    size += current_df.shape[0]\n",
    "    print(size)\n",
    "\n",
    "print(size)"
   ]
  }
 ],
 "metadata": {
  "kernelspec": {
   "display_name": "venv",
   "language": "python",
   "name": "python3"
  },
  "language_info": {
   "codemirror_mode": {
    "name": "ipython",
    "version": 3
   },
   "file_extension": ".py",
   "mimetype": "text/x-python",
   "name": "python",
   "nbconvert_exporter": "python",
   "pygments_lexer": "ipython3",
   "version": "3.10.1"
  }
 },
 "nbformat": 4,
 "nbformat_minor": 2
}
