{
 "cells": [
  {
   "cell_type": "code",
   "execution_count": 23,
   "metadata": {},
   "outputs": [],
   "source": [
    "import pandas as pd \n",
    "import os\n",
    "import seaborn as sns\n",
    "import matplotlib.pyplot as plt\n",
    "# Set the maximum number of rows and columns to display\n",
    "pd.set_option('display.max_rows', 200)  # Adjust this number as needed\n",
    "pd.set_option('display.max_columns', 50)  # Adjust this number as needed"
   ]
  },
  {
   "cell_type": "code",
   "execution_count": 20,
   "metadata": {},
   "outputs": [
    {
     "name": "stdout",
     "output_type": "stream",
     "text": [
      "avg_visits_attended_community_hourly_visits.csv\n",
      "avg_visits_attended_concerts_hourly_visits.csv\n",
      "avg_visits_attended_conferences_hourly_visits.csv\n",
      "avg_visits_attended_expos_hourly_visits.csv\n",
      "avg_visits_attended_festivals_hourly_visits.csv\n",
      "avg_visits_attended_performing-arts_hourly_visits.csv\n",
      "avg_visits_attended_sports_hourly_visits.csv\n",
      "avg_visits_non_attended_academic_hourly_visits.csv\n",
      "avg_visits_non_attended_daylight-savings_hourly_visits.csv\n",
      "avg_visits_non_attended_observances_hourly_visits.csv\n",
      "avg_visits_non_attended_politics_hourly_visits.csv\n",
      "avg_visits_non_attended_public-holidays_hourly_visits.csv\n",
      "avg_visits_non_attended_school-holidays_hourly_visits.csv\n",
      "avg_visits_unscheduled_airport-delays_hourly_visits.csv\n",
      "avg_visits_unscheduled_disasters_hourly_visits.csv\n",
      "avg_visits_unscheduled_health-warnings_hourly_visits.csv\n",
      "avg_visits_unscheduled_severe-weather_hourly_visits.csv\n",
      "avg_visits_unscheduled_terror_hourly_visits.csv\n"
     ]
    }
   ],
   "source": [
    "import os\n",
    "# List all files in the folder\n",
    "folder_path = '../../data_CityEvent/processed/1.5.4_avg_visits_across_day_of_week_at_cbgid_hour_of_day/'\n",
    "file_names = os.listdir(folder_path)\n",
    "\n",
    "# file_names.remove('unscheduled_intermediate') \n",
    "# file_names.remove('archive_before_dropping_missing_geometry') \n",
    "for file_name in file_names:\n",
    "    print(file_name)"
   ]
  },
  {
   "cell_type": "code",
   "execution_count": 21,
   "metadata": {},
   "outputs": [
    {
     "name": "stdout",
     "output_type": "stream",
     "text": [
      "avg_visits_attended_community_hourly_visits.csv: (11164, 6)\n"
     ]
    },
    {
     "data": {
      "text/html": [
       "<div>\n",
       "<style scoped>\n",
       "    .dataframe tbody tr th:only-of-type {\n",
       "        vertical-align: middle;\n",
       "    }\n",
       "\n",
       "    .dataframe tbody tr th {\n",
       "        vertical-align: top;\n",
       "    }\n",
       "\n",
       "    .dataframe thead th {\n",
       "        text-align: right;\n",
       "    }\n",
       "</style>\n",
       "<table border=\"1\" class=\"dataframe\">\n",
       "  <thead>\n",
       "    <tr style=\"text-align: right;\">\n",
       "      <th></th>\n",
       "      <th>DAY_OF_WEEK</th>\n",
       "      <th>START_HOUR</th>\n",
       "      <th>BGFIPS</th>\n",
       "      <th>TOTAL_VISITS</th>\n",
       "      <th>AVG_VISITS</th>\n",
       "      <th>EVENTS_COUNT</th>\n",
       "    </tr>\n",
       "  </thead>\n",
       "  <tbody>\n",
       "    <tr>\n",
       "      <th>0</th>\n",
       "      <td>Friday</td>\n",
       "      <td>0</td>\n",
       "      <td>60014229002</td>\n",
       "      <td>7.0</td>\n",
       "      <td>2.333333</td>\n",
       "      <td>3</td>\n",
       "    </tr>\n",
       "    <tr>\n",
       "      <th>1</th>\n",
       "      <td>Friday</td>\n",
       "      <td>0</td>\n",
       "      <td>60330013003</td>\n",
       "      <td>0.0</td>\n",
       "      <td>0.000000</td>\n",
       "      <td>4</td>\n",
       "    </tr>\n",
       "    <tr>\n",
       "      <th>2</th>\n",
       "      <td>Friday</td>\n",
       "      <td>0</td>\n",
       "      <td>60371252002</td>\n",
       "      <td>2.0</td>\n",
       "      <td>2.000000</td>\n",
       "      <td>1</td>\n",
       "    </tr>\n",
       "    <tr>\n",
       "      <th>3</th>\n",
       "      <td>Friday</td>\n",
       "      <td>0</td>\n",
       "      <td>60372032002</td>\n",
       "      <td>0.0</td>\n",
       "      <td>0.000000</td>\n",
       "      <td>1</td>\n",
       "    </tr>\n",
       "    <tr>\n",
       "      <th>4</th>\n",
       "      <td>Friday</td>\n",
       "      <td>0</td>\n",
       "      <td>60372374012</td>\n",
       "      <td>0.0</td>\n",
       "      <td>0.000000</td>\n",
       "      <td>1</td>\n",
       "    </tr>\n",
       "  </tbody>\n",
       "</table>\n",
       "</div>"
      ],
      "text/plain": [
       "  DAY_OF_WEEK  START_HOUR       BGFIPS  TOTAL_VISITS  AVG_VISITS  EVENTS_COUNT\n",
       "0      Friday           0  60014229002           7.0    2.333333             3\n",
       "1      Friday           0  60330013003           0.0    0.000000             4\n",
       "2      Friday           0  60371252002           2.0    2.000000             1\n",
       "3      Friday           0  60372032002           0.0    0.000000             1\n",
       "4      Friday           0  60372374012           0.0    0.000000             1"
      ]
     },
     "metadata": {},
     "output_type": "display_data"
    }
   ],
   "source": [
    "import os\n",
    "import pandas as pd\n",
    "for file_name in file_names:\n",
    "    current_df = pd.read_csv(os.path.join(folder_path, file_name))\n",
    "    current_df.reset_index(drop=True, inplace=True)\n",
    "    print(f'{file_name}: {current_df.shape}')\n",
    "\n",
    "    display(current_df.head())\n",
    "    \n",
    "    break\n",
    "    "
   ]
  },
  {
   "cell_type": "code",
   "execution_count": 26,
   "metadata": {},
   "outputs": [
    {
     "data": {
      "text/html": [
       "<div>\n",
       "<style scoped>\n",
       "    .dataframe tbody tr th:only-of-type {\n",
       "        vertical-align: middle;\n",
       "    }\n",
       "\n",
       "    .dataframe tbody tr th {\n",
       "        vertical-align: top;\n",
       "    }\n",
       "\n",
       "    .dataframe thead th {\n",
       "        text-align: right;\n",
       "    }\n",
       "</style>\n",
       "<table border=\"1\" class=\"dataframe\">\n",
       "  <thead>\n",
       "    <tr style=\"text-align: right;\">\n",
       "      <th></th>\n",
       "      <th>DAY_OF_WEEK</th>\n",
       "      <th>START_HOUR</th>\n",
       "      <th>BGFIPS</th>\n",
       "      <th>TOTAL_VISITS</th>\n",
       "      <th>AVG_VISITS</th>\n",
       "      <th>EVENTS_COUNT</th>\n",
       "    </tr>\n",
       "  </thead>\n",
       "  <tbody>\n",
       "    <tr>\n",
       "      <th>0</th>\n",
       "      <td>Friday</td>\n",
       "      <td>0</td>\n",
       "      <td>60014229002</td>\n",
       "      <td>7.0</td>\n",
       "      <td>2.333333</td>\n",
       "      <td>3</td>\n",
       "    </tr>\n",
       "    <tr>\n",
       "      <th>1</th>\n",
       "      <td>Friday</td>\n",
       "      <td>0</td>\n",
       "      <td>60330013003</td>\n",
       "      <td>0.0</td>\n",
       "      <td>0.000000</td>\n",
       "      <td>4</td>\n",
       "    </tr>\n",
       "    <tr>\n",
       "      <th>2</th>\n",
       "      <td>Friday</td>\n",
       "      <td>0</td>\n",
       "      <td>60371252002</td>\n",
       "      <td>2.0</td>\n",
       "      <td>2.000000</td>\n",
       "      <td>1</td>\n",
       "    </tr>\n",
       "    <tr>\n",
       "      <th>3</th>\n",
       "      <td>Friday</td>\n",
       "      <td>0</td>\n",
       "      <td>60372032002</td>\n",
       "      <td>0.0</td>\n",
       "      <td>0.000000</td>\n",
       "      <td>1</td>\n",
       "    </tr>\n",
       "    <tr>\n",
       "      <th>4</th>\n",
       "      <td>Friday</td>\n",
       "      <td>0</td>\n",
       "      <td>60372374012</td>\n",
       "      <td>0.0</td>\n",
       "      <td>0.000000</td>\n",
       "      <td>1</td>\n",
       "    </tr>\n",
       "  </tbody>\n",
       "</table>\n",
       "</div>"
      ],
      "text/plain": [
       "  DAY_OF_WEEK  START_HOUR       BGFIPS  TOTAL_VISITS  AVG_VISITS  EVENTS_COUNT\n",
       "0      Friday           0  60014229002           7.0    2.333333             3\n",
       "1      Friday           0  60330013003           0.0    0.000000             4\n",
       "2      Friday           0  60371252002           2.0    2.000000             1\n",
       "3      Friday           0  60372032002           0.0    0.000000             1\n",
       "4      Friday           0  60372374012           0.0    0.000000             1"
      ]
     },
     "metadata": {},
     "output_type": "display_data"
    }
   ],
   "source": [
    "df = pd.read_csv('../../data_CityEvent/processed/1.5.4_avg_visits_across_day_of_week_at_cbgid_hour_of_day/avg_visits_attended_community_hourly_visits.csv')\n",
    "display(df.head())"
   ]
  },
  {
   "cell_type": "code",
   "execution_count": 28,
   "metadata": {},
   "outputs": [
    {
     "data": {
      "text/plain": [
       "count    11164.000000\n",
       "mean        12.920906\n",
       "std         58.959474\n",
       "min          1.000000\n",
       "25%          1.000000\n",
       "50%          3.000000\n",
       "75%          8.000000\n",
       "max       2402.000000\n",
       "Name: EVENTS_COUNT, dtype: float64"
      ]
     },
     "execution_count": 28,
     "metadata": {},
     "output_type": "execute_result"
    }
   ],
   "source": [
    "df['EVENTS_COUNT'].describe()"
   ]
  },
  {
   "cell_type": "code",
   "execution_count": 37,
   "metadata": {},
   "outputs": [
    {
     "data": {
      "image/png": "[encoded data removed]",
      "text/plain": [
       "<Figure size 1000x600 with 1 Axes>"
      ]
     },
     "metadata": {},
     "output_type": "display_data"
    }
   ],
   "source": [
    "def categorize_events_count(row):\n",
    "    if row < 5:\n",
    "        return 'Low'\n",
    "    elif row < 10:\n",
    "        return 'Medium Low'\n",
    "    elif row < 15:\n",
    "        return 'Medium'\n",
    "    elif row < 25:\n",
    "        return 'Medium High'\n",
    "    else:\n",
    "        return 'High'\n",
    "\n",
    "df['EVENTS_CATEGORY'] = df['EVENTS_COUNT'].apply(categorize_events_count)\n",
    "\n",
    "# Step 2: Center TOTAL_VISITS around its median\n",
    "median_visits = df['TOTAL_VISITS'].median()\n",
    "df['TOTAL_VISITS_CENTERED'] = df['TOTAL_VISITS'] - median_visits\n",
    "\n",
    "# Step 3: Create the Box Plot\n",
    "plt.figure(figsize=(10, 6))\n",
    "sns.boxplot(x='EVENTS_CATEGORY', y='TOTAL_VISITS_CENTERED', data=df)\n",
    "plt.title('Box Plot of Centered Total Visits by Events Count Category')\n",
    "plt.xlabel('Events Count Category')\n",
    "plt.ylabel('Centered Total Visits (Median = 0)')\n",
    "plt.axhline(0, color='gray', linestyle='--')  # Optional: Add a line at y=0\n",
    "plt.show()"
   ]
  },
  {
   "cell_type": "code",
   "execution_count": null,
   "metadata": {},
   "outputs": [],
   "source": []
  }
 ],
 "metadata": {
  "kernelspec": {
   "display_name": "venv",
   "language": "python",
   "name": "python3"
  },
  "language_info": {
   "codemirror_mode": {
    "name": "ipython",
    "version": 3
   },
   "file_extension": ".py",
   "mimetype": "text/x-python",
   "name": "python",
   "nbconvert_exporter": "python",
   "pygments_lexer": "ipython3",
   "version": "3.10.1"
  }
 },
 "nbformat": 4,
 "nbformat_minor": 2
}
